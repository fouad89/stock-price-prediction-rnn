{
 "cells": [
  {
   "cell_type": "code",
   "execution_count": 4,
   "source": [
    "# using alpaca\n",
    "import websocket, json\n",
    "import config"
   ],
   "outputs": [],
   "metadata": {}
  },
  {
   "cell_type": "code",
   "execution_count": 34,
   "source": [
    "# market data endpoint\n",
    "socket = \"wss://data.alpaca.markets/stream\""
   ],
   "outputs": [],
   "metadata": {}
  },
  {
   "cell_type": "code",
   "execution_count": 39,
   "source": [
    "def on_open(ws):\n",
    "    print(\"opened\")\n",
    "    auth_data = {\n",
    "        \"action\":\"authenticate\",\n",
    "        \"data\":{\"key_id\":config.API_KEY,\"secret_key\": config.SECRET_KEY}\n",
    "    }\n",
    "    ws.send(json.dumps(auth_data))\n",
    "    listen_message = {\n",
    "        \"action\": \"listen\",\n",
    "        \"data\": {\"streams\": [\"T.AAPL\"]}\n",
    "    }\n",
    "    ws.send(json.dumps(listen_message))\n",
    "\n",
    "def on_message(ws, message):\n",
    "    print(\"received: \")\n",
    "    print(message)"
   ],
   "outputs": [],
   "metadata": {}
  },
  {
   "cell_type": "code",
   "execution_count": 40,
   "source": [
    "ws = websocket.WebSocketApp(socket, on_open=on_open, on_message=on_message)\n",
    "ws.run_forever()"
   ],
   "outputs": [
    {
     "output_type": "stream",
     "name": "stdout",
     "text": [
      "opened\n",
      "received: \n",
      "{\"stream\":\"authorization\",\"data\":{\"action\":\"authenticate\",\"status\":\"authorized\"}}\n",
      "received: \n",
      "{\"stream\":\"listening\",\"data\":{\"streams\":[\"T.AAPL\"]}}\n",
      "received: \n",
      "{\"stream\":\"T.AAPL\",\"data\":{\"ev\":\"T\",\"T\":\"AAPL\",\"i\":\"11279\",\"x\":15,\"p\":156.88,\"s\":100,\"t\":1631042860439950190,\"c\":[0],\"z\":3}}\n",
      "received: \n",
      "{\"stream\":\"T.AAPL\",\"data\":{\"ev\":\"T\",\"T\":\"AAPL\",\"i\":\"11280\",\"x\":15,\"p\":156.89,\"s\":1,\"t\":1631042863956900719,\"c\":[0,37],\"z\":3}}\n",
      "received: \n",
      "{\"stream\":\"T.AAPL\",\"data\":{\"ev\":\"T\",\"T\":\"AAPL\",\"i\":\"11281\",\"x\":15,\"p\":156.89,\"s\":2,\"t\":1631042863956900719,\"c\":[0,37],\"z\":3}}\n",
      "received: \n",
      "{\"stream\":\"T.AAPL\",\"data\":{\"ev\":\"T\",\"T\":\"AAPL\",\"i\":\"11282\",\"x\":15,\"p\":156.91,\"s\":100,\"t\":1631042875147839044,\"c\":[0],\"z\":3}}\n"
     ]
    },
    {
     "output_type": "execute_result",
     "data": {
      "text/plain": [
       "False"
      ]
     },
     "metadata": {},
     "execution_count": 40
    }
   ],
   "metadata": {}
  },
  {
   "cell_type": "code",
   "execution_count": 16,
   "source": [
    "paca.__version__"
   ],
   "outputs": [
    {
     "output_type": "execute_result",
     "data": {
      "text/plain": [
       "'1.3.0'"
      ]
     },
     "metadata": {},
     "execution_count": 16
    }
   ],
   "metadata": {}
  },
  {
   "cell_type": "code",
   "execution_count": 13,
   "source": [
    "paca.Rest(key_id=config.API_KEY, secret_key=config.API_SECRET_KEY, api_version='v2')"
   ],
   "outputs": [
    {
     "output_type": "error",
     "ename": "AttributeError",
     "evalue": "module 'alpaca_trade_api.rest' has no attribute 'Rest'",
     "traceback": [
      "\u001b[0;31m---------------------------------------------------------------------------\u001b[0m",
      "\u001b[0;31mAttributeError\u001b[0m                            Traceback (most recent call last)",
      "\u001b[0;32m<ipython-input-13-eb9cb13b15a6>\u001b[0m in \u001b[0;36m<module>\u001b[0;34m\u001b[0m\n\u001b[0;32m----> 1\u001b[0;31m \u001b[0mpaca\u001b[0m\u001b[0;34m.\u001b[0m\u001b[0mRest\u001b[0m\u001b[0;34m(\u001b[0m\u001b[0mkey_id\u001b[0m\u001b[0;34m=\u001b[0m\u001b[0mconfig\u001b[0m\u001b[0;34m.\u001b[0m\u001b[0mAPI_KEY\u001b[0m\u001b[0;34m,\u001b[0m \u001b[0msecret_key\u001b[0m\u001b[0;34m=\u001b[0m\u001b[0mconfig\u001b[0m\u001b[0;34m.\u001b[0m\u001b[0mAPI_SECRET_KEY\u001b[0m\u001b[0;34m,\u001b[0m \u001b[0mapi_version\u001b[0m\u001b[0;34m=\u001b[0m\u001b[0;34m'v2'\u001b[0m\u001b[0;34m)\u001b[0m\u001b[0;34m\u001b[0m\u001b[0;34m\u001b[0m\u001b[0m\n\u001b[0m",
      "\u001b[0;31mAttributeError\u001b[0m: module 'alpaca_trade_api.rest' has no attribute 'Rest'"
     ]
    }
   ],
   "metadata": {}
  },
  {
   "cell_type": "code",
   "execution_count": null,
   "source": [],
   "outputs": [],
   "metadata": {}
  }
 ],
 "metadata": {
  "orig_nbformat": 4,
  "language_info": {
   "name": "python",
   "version": "3.7.6",
   "mimetype": "text/x-python",
   "codemirror_mode": {
    "name": "ipython",
    "version": 3
   },
   "pygments_lexer": "ipython3",
   "nbconvert_exporter": "python",
   "file_extension": ".py"
  },
  "kernelspec": {
   "name": "python3",
   "display_name": "Python 3.7.6 64-bit"
  },
  "interpreter": {
   "hash": "016f416f43c7de9d71e7f049375c6b8b903fae571cb02d2ed6c16dadea121115"
  }
 },
 "nbformat": 4,
 "nbformat_minor": 2
}